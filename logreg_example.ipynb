{
 "cells": [
  {
   "cell_type": "code",
   "execution_count": 12,
   "metadata": {},
   "outputs": [],
   "source": [
    "import numpy as np\n",
    "from sklearn import datasets\n",
    "\n",
    "import matplotlib\n",
    "%matplotlib inline\n",
    "from matplotlib import pyplot as plt\n",
    "from scipy.special import expit\n",
    "from scipy.linalg import cho_factor, cho_solve, eigvals\n",
    "\n",
    "\n",
    "from logreg import LogisticRegression\n",
    "from descent import line_search, gradient_descent"
   ]
  },
  {
   "cell_type": "code",
   "execution_count": 13,
   "metadata": {},
   "outputs": [
    {
     "data": {
      "image/png": "[encoded data removed]",
      "text/plain": [
       "<Figure size 432x288 with 1 Axes>"
      ]
     },
     "metadata": {
      "needs_background": "light"
     },
     "output_type": "display_data"
    }
   ],
   "source": [
    "X, y = datasets.make_blobs(n_samples=1000, centers=2, n_features=2, cluster_std=0.3, center_box=(0, 3))\n",
    "y[y == 0] = -1\n",
    "plt.plot(X[:, 0][y == -1], X[:, 1][y == -1], 'g^')\n",
    "plt.plot(X[:, 0][y == 1], X[:, 1][y == 1], 'bs')\n",
    "y = y.reshape(-1, 1)\n",
    "plt.show()"
   ]
  },
  {
   "cell_type": "code",
   "execution_count": 14,
   "metadata": {},
   "outputs": [],
   "source": [
    "lr_gd = LogisticRegression(eps=1e-3, compute_alpha=True, method='dichotomy', verbose=50, l2=0.001)\n",
    "lr_newton = LogisticRegression(eps=1e-3, solver='newton', verbose=1, l2=0.001)"
   ]
  },
  {
   "cell_type": "code",
   "execution_count": 15,
   "metadata": {},
   "outputs": [
    {
     "name": "stdout",
     "output_type": "stream",
     "text": [
      "Iteration 1, Grad norm: 0.288745, Left: 0.287745\n",
      "Iteration 2, Grad norm: 0.124998, Left: 0.123998\n",
      "Iteration 3, Grad norm: 0.042133, Left: 0.041133\n",
      "Iteration 4, Grad norm: 0.011617, Left: 0.010617\n",
      "Iteration 5, Grad norm: 0.001430, Left: 0.000430\n",
      "Iteration 6, Grad norm: 0.000023, Left: 0.000000\n"
     ]
    }
   ],
   "source": [
    "lr_newton.fit(X, y)"
   ]
  },
  {
   "cell_type": "code",
   "execution_count": 16,
   "metadata": {},
   "outputs": [
    {
     "name": "stdout",
     "output_type": "stream",
     "text": [
      "Iteration 50, Grad norm: 0.045315, Left: 0.044256\n",
      "Iteration 100, Grad norm: 0.025695, Left: 0.024636\n",
      "Iteration 150, Grad norm: 0.017673, Left: 0.016614\n",
      "Iteration 200, Grad norm: 0.013159, Left: 0.012100\n",
      "Iteration 250, Grad norm: 0.010224, Left: 0.009165\n",
      "Iteration 300, Grad norm: 0.008157, Left: 0.007098\n",
      "Iteration 350, Grad norm: 0.006626, Left: 0.005567\n",
      "Iteration 400, Grad norm: 0.005452, Left: 0.004393\n",
      "Iteration 450, Grad norm: 0.004529, Left: 0.003470\n",
      "Iteration 500, Grad norm: 0.003791, Left: 0.002732\n",
      "Iteration 550, Grad norm: 0.003192, Left: 0.002133\n",
      "Iteration 600, Grad norm: 0.002700, Left: 0.001641\n",
      "Iteration 650, Grad norm: 0.002292, Left: 0.001233\n",
      "Iteration 700, Grad norm: 0.001952, Left: 0.000893\n",
      "Iteration 750, Grad norm: 0.001667, Left: 0.000608\n",
      "Iteration 800, Grad norm: 0.001426, Left: 0.000367\n",
      "Iteration 850, Grad norm: 0.001223, Left: 0.000164\n"
     ]
    }
   ],
   "source": [
    "lr_gd.fit(X, y)"
   ]
  },
  {
   "cell_type": "code",
   "execution_count": 17,
   "metadata": {},
   "outputs": [
    {
     "name": "stdout",
     "output_type": "stream",
     "text": [
      "GD Accuracy = 0.996 \n",
      "Newton Accuracy = 0.996\n"
     ]
    }
   ],
   "source": [
    "print(f'GD Accuracy = {(lr_gd.predict(X) == y).mean()} \\n'\n",
    "      f'Newton Accuracy = {(lr_newton.predict(X) == y).mean()}')"
   ]
  },
  {
   "cell_type": "code",
   "execution_count": null,
   "metadata": {},
   "outputs": [],
   "source": []
  }
 ],
 "metadata": {
  "kernelspec": {
   "display_name": "Python 3",
   "language": "python",
   "name": "python3"
  },
  "language_info": {
   "codemirror_mode": {
    "name": "ipython",
    "version": 3
   },
   "file_extension": ".py",
   "mimetype": "text/x-python",
   "name": "python",
   "nbconvert_exporter": "python",
   "pygments_lexer": "ipython3",
   "version": "3.8.2"
  }
 },
 "nbformat": 4,
 "nbformat_minor": 4
}
